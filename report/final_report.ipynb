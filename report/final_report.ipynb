{
 "cells": [
  {
   "cell_type": "code",
   "execution_count": null,
   "id": "63c0f32f-cb4a-439f-a522-b9980927a686",
   "metadata": {},
   "outputs": [],
   "source": []
  },
  {
   "cell_type": "markdown",
   "id": "3a4cd9a5-5e28-48be-9f27-c3eb92607948",
   "metadata": {},
   "source": [
    "*test for change*"
   ]
  },
  {
   "cell_type": "code",
   "execution_count": null,
   "id": "72f50b63-2033-433b-8235-037e796c421f",
   "metadata": {},
   "outputs": [],
   "source": []
  }
 ],
 "metadata": {
  "kernelspec": {
   "display_name": "R",
   "language": "R",
   "name": "ir"
  },
  "language_info": {
   "codemirror_mode": "r",
   "file_extension": ".r",
   "mimetype": "text/x-r-source",
   "name": "R",
   "pygments_lexer": "r",
   "version": "4.3.3"
  }
 },
 "nbformat": 4,
 "nbformat_minor": 5
}
